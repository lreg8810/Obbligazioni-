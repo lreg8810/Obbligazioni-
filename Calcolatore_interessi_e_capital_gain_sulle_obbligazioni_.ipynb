{
  "nbformat": 4,
  "nbformat_minor": 0,
  "metadata": {
    "colab": {
      "provenance": []
    },
    "kernelspec": {
      "name": "python3",
      "display_name": "Python 3"
    },
    "language_info": {
      "name": "python"
    }
  },
  "cells": [
    {
      "cell_type": "markdown",
      "source": [
        "##***Calcolatore titolo senza premio fedeltà***"
      ],
      "metadata": {
        "id": "Z24NImCVDie4"
      }
    },
    {
      "cell_type": "markdown",
      "source": [
        "# ***Istruzioni:***\n",
        "\n",
        "- Inserire i valori numerici senza includere il simbolo percentuale poichè calcolato in automatico\n",
        "\n",
        "- \"In Italia, attualmente la tassazione sui titoli di stato è fissata al 12,5% per i paesi inclusi nella lista bianca. Inoltre, viene applicata un'imposta di bollo pari al due per mille sul valore nominale dei titoli detenuti. Questi parametri costituiscono le attuali normative fiscali che regolano gli investimenti nei titoli di stato in Italia.\"\n",
        "\n",
        "- Quando si tratta di investimenti in titoli di stato, come i BTP (Buoni del Tesoro Poliennali), il prezzo può essere espressi in termini percentuali rispetto al valore nominale. Ad esempio, se il prezzo di un BTP è 80, significa che è al di sotto della pari, il che indica che il titolo è in vendita a un prezzo inferiore al suo valore nominale. Tuttavia, è importante considerare anche il lotto minimo di acquisto, che per i BTP solitamente è di 1000 unità. Inoltre, nei titoli di stato e in altri strumenti finanziari, il lotto minimo di acquisto può variare. Potrebbe essere di 10.000 o addirittura di 100.000 unità per alcune obbligazioni particolari. Ciò significa che possiamo acquistare multipoli del lotto minimo, come 100.000, 200.000, 300.000 e così via. Quando il lotto minimo è di 1000 e il prezzo è 80, per calcolare l'importo effettivo dell'investimento, dovremmo dividere il prezzo per 100 e poi moltiplicarlo per il lotto minimo. Quindi, nel nostro esempio, 1000 lotto x 0,8 equivale a un investimento effettivo di 800 euro.\n",
        "\n",
        "- In Italia, l'imposta di bollo sui titoli di stato viene calcolata sulla base del valore nominale dei titoli detenuti, moltiplicato per il prezzo di mercato al momento del calcolo. La legge italiana prevede che l'imposta di bollo debba essere pagata ogni trimestre sul valore nominale dei titoli detenuti. Per calcolare l'imposta di bollo ogni tre mesi, è necessario conoscere il valore nominale dei titoli (capitale) e il loro prezzo di mercato. Puoi quindi moltiplicare il capitale per il prezzo di mercato e applicare l'aliquota dell'imposta di bollo corrispondente. L'aliquota dell'imposta di bollo sui titoli di stato varia a seconda del tipo di titolo e della sua durata.\"Poiché il prezzo dei titoli di stato può variare nel tempo e non è possibile prevedere con esattezza quale sarà il suo valore nei trimestri futuri, il calcolo dell'imposta di bollo può risultare approssimativo. Attualmente, il prezzo di mercato dei titoli viene utilizzato come punto di riferimento per calcolare l'imposta di bollo. Tuttavia, è importante tenere presente che questo calcolo potrebbe non riflettere con precisione l'imposta effettiva che verrà pagata, poiché il prezzo dei titoli potrebbe fluttuare nel tempo. Pertanto, l'imposta di bollo calcolata dovrebbe essere considerata solo come una stima approssimativa e non come un valore definitivo.\"\n",
        "\n"
      ],
      "metadata": {
        "id": "DU22tSvTBDqI"
      }
    },
    {
      "cell_type": "code",
      "execution_count": null,
      "metadata": {
        "colab": {
          "base_uri": "https://localhost:8080/"
        },
        "id": "li3mAvWJ7Yqr",
        "outputId": "19f2df9c-60fe-4963-9ace-664df6148e14"
      },
      "outputs": [
        {
          "output_type": "stream",
          "name": "stdout",
          "text": [
            "Inserisci la tassazione (%): 12.5\n",
            "Inserisci il tasso di interesse (%): 4.75\n",
            "Inserisci il capitale: 1000\n",
            "Inserisci il prezzo: 80\n",
            "Inserisci la durata (anni): 17\n",
            "Inserisci le commissioni di acquisto: 8\n",
            "Inserisci imposta_di_bollo: 2\n",
            "tasso_interesse_netto 0.0415625\n",
            "interessi 706.5625\n",
            "bollo 27.200000000000003\n",
            "capital_gain_lordo 200.0\n",
            "capital_gain_netto 175.0\n",
            "guadagno_netto_finale 846.3625\n",
            "Totale: 1846.3625\n"
          ]
        }
      ],
      "source": [
        "# Dati di input\n",
        "tassazione = float(input(\"Inserisci la tassazione (%): \")) / 100\n",
        "tasso_interesse = float(input(\"Inserisci il tasso di interesse (%): \")) / 100 #correzzione tasso\n",
        "capitale = float(input(\"Inserisci il capitale: \"))\n",
        "prezzo = float(input(\"Inserisci il prezzo: \")) / 100  # Correzione del prezzo\n",
        "durata = float(input(\"Inserisci la durata (anni): \"))\n",
        "commissioni_acquisto = float(input(\"Inserisci le commissioni di acquisto: \"))\n",
        "imposta_di_bollo = float(input(\"Inserisci imposta_di_bollo: \")) / 1000 # Attualemente è il due per mille dunque inserire numero intero\n",
        "\n",
        "#Calcola interesse netto\n",
        "tasso_interesse_netto = ((tasso_interesse * 100) - ((tasso_interesse * 100) * tassazione)) / 100\n",
        "\n",
        "# Calcolo degli interessi maturati\n",
        "interessi = (capitale * tasso_interesse_netto * durata)\n",
        "\n",
        "# Calcolo del bollo\n",
        "bollo = capitale * imposta_di_bollo * prezzo * durata\n",
        "\n",
        "# Calcolo del capital gain lordo\n",
        "capital_gain_lordo = capitale - (capitale * prezzo)\n",
        "\n",
        "# Calcolo del capital gain netto\n",
        "capital_gain_netto = capital_gain_lordo - (capital_gain_lordo * tassazione)\n",
        "\n",
        "# Calcolo del guadagno netto finale\n",
        "guadagno_netto_finale = capital_gain_netto + interessi - bollo - commissioni_acquisto\n",
        "\n",
        "guadagno_netto_finale_senzabollo = capital_gain_netto + interessi - commissioni_acquisto\n",
        "# Calcolo del totale\n",
        "totale = capitale + guadagno_netto_finale\n",
        "\n",
        "# Output\n",
        "print(\"tasso_interesse_netto\", tasso_interesse_netto)\n",
        "print(\"interessi\", interessi)\n",
        "print(\"bollo\", bollo)\n",
        "print(\"capital_gain_lordo\",capital_gain_lordo)\n",
        "print(\"capital_gain_netto\",capital_gain_netto)\n",
        "print(\"guadagno_netto_finale\",guadagno_netto_finale)\n",
        "print(\"guadagno_netto_finale_senzabollo\",guadagno_netto_finale_senzabollo)\n",
        "print(\"Totale:\", totale)\n"
      ]
    },
    {
      "cell_type": "markdown",
      "source": [
        "##***Calcolatore titolo con premio fedeltà***\n",
        "\"Di solito, i titoli con premi fedeltà sono quelli acquistati direttamente nel mercato primario, il che significa che il loro prezzo è spesso fissato a 100. Inoltre, il premio fedeltà è un beneficio che si ottiene solamente nel caso in cui si mantenga il titolo fino alla sua scadenza.\"\n",
        "\n",
        "\n",
        "\n",
        "\n",
        "\n"
      ],
      "metadata": {
        "id": "qvzX-vcsDwTY"
      }
    },
    {
      "cell_type": "code",
      "source": [
        "# Dati di input\n",
        "tassazione = float(input(\"Inserisci la tassazione (%): \")) / 100\n",
        "tasso_interesse = float(input(\"Inserisci il tasso di interesse (%): \")) / 100 #correzzione tasso\n",
        "capitale = float(input(\"Inserisci il capitale: \"))\n",
        "prezzo = float(input(\"Inserisci il prezzo: \")) / 100  # Correzione del prezzo\n",
        "durata = float(input(\"Inserisci la durata (anni): \"))\n",
        "commissioni_acquisto = float(input(\"Inserisci le commissioni di acquisto: \"))\n",
        "imposta_di_bollo = float(input(\"Inserisci imposta_di_bollo: \")) / 1000 # Attualemente è il due per mille dunque inserire numero intero\n",
        "premio_fedeltà = float(input(\"Inserisci il premio fedeltà (%): \")) / 100 #correzzione tasso\n",
        "\n",
        "#Calcola interesse netto\n",
        "tasso_interesse_netto = ((tasso_interesse * 100) - ((tasso_interesse * 100) * tassazione)) / 100\n",
        "premio_fedeltà_netto = ((premio_fedeltà * 100) - ((premio_fedeltà * 100) * tassazione)) / 100\n",
        "\n",
        "# Calcolo degli interessi maturati\n",
        "interessi = (capitale * tasso_interesse_netto * durata)\n",
        "premio = (capitale * premio_fedeltà_netto)\n",
        "\n",
        "# Calcolo del bollo\n",
        "bollo = capitale * imposta_di_bollo * prezzo * durata\n",
        "\n",
        "# Calcolo del capital gain lordo\n",
        "capital_gain_lordo = capitale - (capitale * prezzo)\n",
        "\n",
        "# Calcolo del capital gain netto\n",
        "capital_gain_netto = capital_gain_lordo - (capital_gain_lordo * tassazione)\n",
        "\n",
        "premio\n",
        "# Calcolo del guadagno netto finale\n",
        "guadagno_netto_finale = capital_gain_netto + interessi + premio - bollo - commissioni_acquisto\n",
        "\n",
        "guadagno_netto_finale_senzabollo = capital_gain_netto + interessi + premio - commissioni_acquisto\n",
        "\n",
        "# Calcolo del totale\n",
        "totale = capitale + guadagno_netto_finale\n",
        "\n",
        "# Output\n",
        "print(\"tasso_interesse_netto\", tasso_interesse_netto)\n",
        "print(\"interessi\", interessi)\n",
        "print(\"bollo\", bollo)\n",
        "print(\"premio\",premio)\n",
        "print(\"capital_gain_lordo\",capital_gain_lordo)\n",
        "print(\"capital_gain_netto\",capital_gain_netto)\n",
        "print(\"guadagno_netto_finale\",guadagno_netto_finale)\n",
        "print(\"guadagno_netto_finale_senzabollo\",guadagno_netto_finale_senzabollo)\n",
        "print(\"Totale:\", totale)\n"
      ],
      "metadata": {
        "colab": {
          "base_uri": "https://localhost:8080/"
        },
        "id": "IODChGluDvgu",
        "outputId": "ac16e3db-77d6-44a8-bebf-96127fc3e6fa"
      },
      "execution_count": null,
      "outputs": [
        {
          "output_type": "stream",
          "name": "stdout",
          "text": [
            "Inserisci la tassazione (%): 12.5\n",
            "Inserisci il tasso di interesse (%): 4.75\n",
            "Inserisci il capitale: 1000\n",
            "Inserisci il prezzo: 80\n",
            "Inserisci la durata (anni): 17\n",
            "Inserisci le commissioni di acquisto: 8\n",
            "Inserisci imposta_di_bollo: 2\n",
            "Inserisci il premio fedeltà (%): 1\n",
            "tasso_interesse_netto 0.0415625\n",
            "interessi 706.5625\n",
            "bollo 27.200000000000003\n",
            "premio 8.75\n",
            "capital_gain_lordo 200.0\n",
            "capital_gain_netto 175.0\n",
            "guadagno_netto_finale 855.1125\n",
            "guadagno_netto_finale_senzabollo 882.3125\n",
            "Totale: 1855.1125\n"
          ]
        }
      ]
    },
    {
      "cell_type": "markdown",
      "source": [
        "## ***Calcolatore titoli con due scaglioni di tasso di interesse e premio fedeltà***"
      ],
      "metadata": {
        "id": "tOxLIDrFDX6_"
      }
    },
    {
      "cell_type": "code",
      "source": [
        "# Dati di input\n",
        "tassazione = float(input(\"Inserisci la tassazione (%): \")) / 100\n",
        "capitale = float(input(\"Inserisci il capitale: \"))\n",
        "prezzo = float(input(\"Inserisci il prezzo: \")) / 100\n",
        "commissioni_acquisto = float(input(\"Inserisci le commissioni di acquisto: \"))\n",
        "imposta_di_bollo = float(input(\"Inserisci l'imposta di bollo (%): \")) / 1000\n",
        "premio_fedeltà = float(input(\"Inserisci il premio fedeltà (%): \")) / 100\n",
        "\n",
        "# Tassi di interesse netti per ciascuno scaglione\n",
        "tasso_interesse_1 = float(input(\"Inserisci il tasso di interesse netto per il primo scaglione (%): \")) / 100\n",
        "tasso_interesse_2 = float(input(\"Inserisci il tasso di interesse netto per il secondo scaglione (%): \")) / 100\n",
        "\n",
        "# Durata di ogni scaglione\n",
        "durata_scaglione_1 = float(input(\"Inserisci la durata del primo scaglione (anni): \"))\n",
        "durata_scaglione_2 = float(input(\"Inserisci la durata del secondo scaglione (anni): \"))\n",
        "\n",
        "# Durata totale\n",
        "durata_totale = durata_scaglione_1 + durata_scaglione_2\n",
        "\n",
        "#Calcola interesse netto\n",
        "tasso_interesse_netto_1 = ((tasso_interesse_1 * 100) - ((tasso_interesse_1 * 100) * tassazione)) / 100\n",
        "tasso_interesse_netto_2 = ((tasso_interesse_2 * 100) - ((tasso_interesse_2 * 100) * tassazione)) / 100\n",
        "\n",
        "\n",
        "premio_fedeltà_netto = ((premio_fedeltà * 100) - ((premio_fedeltà * 100) * tassazione)) / 100\n",
        "\n",
        "# Calcolo degli interessi maturati\n",
        "interessi_1 = (capitale * tasso_interesse_netto_1 * durata_scaglione_1)\n",
        "interessi_2 = (capitale * tasso_interesse_netto_2 * durata_scaglione_2)\n",
        "\n",
        "\n",
        "interessi = interessi_1 + interessi_2\n",
        "premio = (capitale * premio_fedeltà_netto)\n",
        "\n",
        "# Calcolo del bollo\n",
        "bollo = capitale * imposta_di_bollo * prezzo * durata_totale\n",
        "\n",
        "# Calcolo del capital gain lordo\n",
        "capital_gain_lordo = capitale - (capitale * prezzo)\n",
        "\n",
        "# Calcolo del capital gain netto\n",
        "capital_gain_netto = capital_gain_lordo - (capital_gain_lordo * tassazione)\n",
        "\n",
        "premio\n",
        "# Calcolo del guadagno netto finale\n",
        "guadagno_netto_finale = capital_gain_netto + interessi + premio - bollo - commissioni_acquisto\n",
        "\n",
        "guadagno_netto_finale_senzabollo = capital_gain_netto + interessi + premio - commissioni_acquisto\n",
        "\n",
        "# Calcolo del totale\n",
        "totale = capitale + guadagno_netto_finale\n",
        "\n",
        "# Output\n",
        "\n",
        "\n",
        "print(\"interessi\", interessi)\n",
        "print(\"bollo\", bollo)\n",
        "print(\"premio\",premio)\n",
        "print(\"capital_gain_lordo\",capital_gain_lordo)\n",
        "print(\"capital_gain_netto\",capital_gain_netto)\n",
        "print(\"guadagno_netto_finale\",guadagno_netto_finale)\n",
        "print(\"guadagno_netto_finale_senzabollo\",guadagno_netto_finale_senzabollo)\n",
        "print(\"Totale:\", totale)"
      ],
      "metadata": {
        "colab": {
          "base_uri": "https://localhost:8080/"
        },
        "id": "-PtPsJXsDgtE",
        "outputId": "7a219e4c-8971-4493-968a-c8840714e3dd"
      },
      "execution_count": 19,
      "outputs": [
        {
          "output_type": "stream",
          "name": "stdout",
          "text": [
            "Inserisci la tassazione (%): 12.5\n",
            "Inserisci il capitale: 1000\n",
            "Inserisci il prezzo: 100\n",
            "Inserisci le commissioni di acquisto: 0\n",
            "Inserisci l'imposta di bollo (%): 2\n",
            "Inserisci il premio fedeltà (%): 1\n",
            "Inserisci il tasso di interesse netto per il primo scaglione (%): 1\n",
            "Inserisci il tasso di interesse netto per il secondo scaglione (%): 1\n",
            "Inserisci la durata del primo scaglione (anni): 1\n",
            "Inserisci la durata del secondo scaglione (anni): 1\n",
            "interessi 17.5\n",
            "bollo 4.0\n",
            "premio 8.75\n",
            "capital_gain_lordo 0.0\n",
            "capital_gain_netto 0.0\n",
            "guadagno_netto_finale 22.25\n",
            "guadagno_netto_finale_senzabollo 26.25\n",
            "Totale: 1022.25\n"
          ]
        }
      ]
    },
    {
      "cell_type": "markdown",
      "source": [
        "## ***Calcolatore titoli con tre scaglioni di tasso di interesse e premio fedeltà***"
      ],
      "metadata": {
        "id": "d2xBmqhD7Gau"
      }
    },
    {
      "cell_type": "code",
      "source": [
        "# Dati di input\n",
        "tassazione = float(input(\"Inserisci la tassazione (%): \")) / 100\n",
        "capitale = float(input(\"Inserisci il capitale: \"))\n",
        "prezzo = float(input(\"Inserisci il prezzo: \")) / 100\n",
        "commissioni_acquisto = float(input(\"Inserisci le commissioni di acquisto: \"))\n",
        "imposta_di_bollo = float(input(\"Inserisci l'imposta di bollo (%): \")) / 1000\n",
        "premio_fedeltà = float(input(\"Inserisci il premio fedeltà (%): \")) / 100\n",
        "\n",
        "# Tassi di interesse netti per ciascuno scaglione\n",
        "tasso_interesse_1 = float(input(\"Inserisci il tasso di interesse netto per il primo scaglione (%): \")) / 100\n",
        "tasso_interesse_2 = float(input(\"Inserisci il tasso di interesse netto per il secondo scaglione (%): \")) / 100\n",
        "tasso_interesse_3 = float(input(\"Inserisci il tasso di interesse netto per il terzo scaglione (%): \")) / 100\n",
        "\n",
        "# Durata di ogni scaglione\n",
        "durata_scaglione_1 = float(input(\"Inserisci la durata del primo scaglione (anni): \"))\n",
        "durata_scaglione_2 = float(input(\"Inserisci la durata del secondo scaglione (anni): \"))\n",
        "durata_scaglione_3 = float(input(\"Inserisci la durata del terzo scaglione (anni): \"))\n",
        "\n",
        "# Durata totale\n",
        "durata_totale = durata_scaglione_1 + durata_scaglione_2 + durata_scaglione_3\n",
        "\n",
        "#Calcola interesse netto\n",
        "tasso_interesse_netto_1 = ((tasso_interesse_1 * 100) - ((tasso_interesse_1 * 100) * tassazione)) / 100\n",
        "tasso_interesse_netto_2 = ((tasso_interesse_2 * 100) - ((tasso_interesse_2 * 100) * tassazione)) / 100\n",
        "tasso_interesse_netto_3 = ((tasso_interesse_3 * 100) - ((tasso_interesse_3 * 100) * tassazione)) / 100\n",
        "\n",
        "premio_fedeltà_netto = ((premio_fedeltà * 100) - ((premio_fedeltà * 100) * tassazione)) / 100\n",
        "\n",
        "# Calcolo degli interessi maturati\n",
        "interessi_1 = (capitale * tasso_interesse_netto_1 * durata_scaglione_1)\n",
        "interessi_2 = (capitale * tasso_interesse_netto_2 * durata_scaglione_2)\n",
        "interessi_3 = (capitale * tasso_interesse_netto_3 * durata_scaglione_3)\n",
        "interessi = interessi_1 + interessi_2 + interessi_3\n",
        "premio = (capitale * premio_fedeltà_netto)\n",
        "\n",
        "# Calcolo del bollo\n",
        "bollo = capitale * imposta_di_bollo * prezzo * durata_totale\n",
        "\n",
        "# Calcolo del capital gain lordo\n",
        "capital_gain_lordo = capitale - (capitale * prezzo)\n",
        "\n",
        "# Calcolo del capital gain netto\n",
        "capital_gain_netto = capital_gain_lordo - (capital_gain_lordo * tassazione)\n",
        "\n",
        "premio\n",
        "# Calcolo del guadagno netto finale\n",
        "guadagno_netto_finale = capital_gain_netto + interessi + premio - bollo - commissioni_acquisto\n",
        "\n",
        "guadagno_netto_finale_senzabollo = capital_gain_netto + interessi + premio - commissioni_acquisto\n",
        "\n",
        "# Calcolo del totale\n",
        "totale = capitale + guadagno_netto_finale\n",
        "\n",
        "# Output\n",
        "\n",
        "\n",
        "print(\"interessi\", interessi)\n",
        "print(\"bollo\", bollo)\n",
        "print(\"premio\",premio)\n",
        "print(\"capital_gain_lordo\",capital_gain_lordo)\n",
        "print(\"capital_gain_netto\",capital_gain_netto)\n",
        "print(\"guadagno_netto_finale\",guadagno_netto_finale)\n",
        "print(\"guadagno_netto_finale_senzabollo\",guadagno_netto_finale_senzabollo)\n",
        "print(\"Totale:\", totale)"
      ],
      "metadata": {
        "colab": {
          "base_uri": "https://localhost:8080/"
        },
        "id": "zGuh2O9g7-6w",
        "outputId": "a2b008b7-d2a6-4eca-eaf4-500f7bf27cd2"
      },
      "execution_count": 16,
      "outputs": [
        {
          "output_type": "stream",
          "name": "stdout",
          "text": [
            "Inserisci la tassazione (%): 12.5\n",
            "Inserisci il capitale: 1000\n",
            "Inserisci il prezzo: 100\n",
            "Inserisci le commissioni di acquisto: 0\n",
            "Inserisci l'imposta di bollo (%): 2\n",
            "Inserisci il premio fedeltà (%): 0\n",
            "Inserisci il tasso di interesse netto per il primo scaglione (%): 3\n",
            "Inserisci il tasso di interesse netto per il secondo scaglione (%): 4\n",
            "Inserisci il tasso di interesse netto per il terzo scaglione (%): 4.2\n",
            "Inserisci la durata del primo scaglione (anni): 5\n",
            "Inserisci la durata del secondo scaglione (anni): 5\n",
            "Inserisci la durata del terzo scaglione (anni): 5\n",
            "interessi 490.0\n",
            "bollo 30.0\n",
            "premio 0.0\n",
            "capital_gain_lordo 0.0\n",
            "capital_gain_netto 0.0\n",
            "guadagno_netto_finale 460.0\n",
            "guadagno_netto_finale_senzabollo 490.0\n",
            "Totale: 1460.0\n"
          ]
        }
      ]
    }
  ]
}