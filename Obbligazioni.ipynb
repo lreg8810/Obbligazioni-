{
 "cells": [
  {
   "cell_type": "markdown",
   "id": "130f99d8-f89d-4e5f-b517-b79ead9c1061",
   "metadata": {
    "tags": []
   },
   "source": [
    "# Obbligazioni"
   ]
  },
  {
   "cell_type": "markdown",
   "id": "5a8dbff6-a23e-4bad-adde-86aa784781dc",
   "metadata": {
    "tags": []
   },
   "source": [
    "## Tasso di interesse"
   ]
  },
  {
   "cell_type": "markdown",
   "id": "3fb486ba-2247-4ab6-b008-8c9cdaa95999",
   "metadata": {},
   "source": [
    "Per calcolare gli interessi delle obbligazioni, si usa la formula dell'interesse semplice:\n",
    "\n",
    "I=P×r×t\n",
    "\n",
    "dove:\n",
    "\n",
    "- I è l'importo degli interessi che si desidera calcolare,\n",
    "- P è il valore nominale dell'obbligazione (il suo prezzo di emissione),\n",
    "- r è il tasso di interesse annuo dell'obbligazione espresso come una frazione decimale\n",
    "- t è il periodo di tempo in anni per cui l'obbligazione è stata detenuta.\n",
    "\n",
    "Se hai bisogno di calcolare l'interesse maturato su un periodo inferiore all'anno (ad esempio, in mesi), dovrai utilizzare una formula leggermente diversa. In questo caso, la formula diventa:\n",
    "\n",
    "I=P×r×t/12\n",
    "\n",
    "dove t è è il numero di mesi per cui l'obbligazione è stata detenuta"
   ]
  },
  {
   "cell_type": "code",
   "execution_count": 26,
   "id": "82763ceb-caf5-4669-87a5-1862a34c737b",
   "metadata": {},
   "outputs": [
    {
     "name": "stdout",
     "output_type": "stream",
     "text": [
      "Importo degli interessi dell'obbligazione: 100.0\n"
     ]
    }
   ],
   "source": [
    "def calcola_interessi_obbligazione(P, r, t):\n",
    "\n",
    "    I = P * r * t\n",
    "    return I\n",
    "\n",
    "# Esempio di utilizzo:\n",
    "valore_nominale = 1000  # Prezzo di emissione dell'obbligazione\n",
    "tasso_interesse_annuo = 0.05  # Tasso di interesse annuo del 5%\n",
    "periodo_detenzione_anni = 2  # Periodo di detenzione di 2 anni\n",
    "\n",
    "interessi_obbligazione = calcola_interessi_obbligazione(valore_nominale, tasso_interesse_annuo, periodo_detenzione_anni)\n",
    "print(\"Importo degli interessi dell'obbligazione:\", interessi_obbligazione)\n"
   ]
  },
  {
   "cell_type": "markdown",
   "id": "6c2f19ab-d54d-47e8-b64d-d6273a645dde",
   "metadata": {
    "tags": []
   },
   "source": [
    "## Prezzo"
   ]
  },
  {
   "cell_type": "markdown",
   "id": "6f668a3d-890b-465a-8cbd-06e7dd14e66c",
   "metadata": {},
   "source": [
    "In generale il prezzo delle obbligazioni è rilevato come valore attuale\n",
    "$$B_0=d_1C_1+d_2C_2+\\cdot\\cdot\\cdot+d_TC_T=\\sum_{t=1}^{T}d_tC_t$$"
   ]
  },
  {
   "cell_type": "code",
   "execution_count": 27,
   "id": "1a1e9dc4-f367-4c3f-bebb-229b10a7fe3f",
   "metadata": {},
   "outputs": [
    {
     "name": "stdout",
     "output_type": "stream",
     "text": [
      "Il prezzo corrente dell'obbligazione è: 102.531\n"
     ]
    }
   ],
   "source": [
    "def prezzo_obbligazione_corrente(flussi_di_cassa, tasso_di_interesse_di_mercato):\n",
    "    prezzo_corrente = sum([flusso / (1 + tasso_di_interesse_di_mercato) ** (i + 1) for i, flusso in enumerate(flussi_di_cassa)])\n",
    "    return prezzo_corrente\n",
    "\n",
    "# Esempio di utilizzo della funzione con i valori forniti:\n",
    "flussi_di_cassa = [10, 10, 110]  # Flussi di cassa dell'obbligazione (inserire quelli che abbiamo)\n",
    "tasso_di_interesse_di_mercato = 0.09  # Tasso di interesse del mercato (4.5%)\n",
    "\n",
    "prezzo_obbligazione = prezzo_obbligazione_corrente(flussi_di_cassa, tasso_di_interesse_di_mercato)\n",
    "print(f\"Il prezzo corrente dell'obbligazione è: {prezzo_obbligazione:.3f}\")\n"
   ]
  },
  {
   "cell_type": "markdown",
   "id": "30d141a5-3a63-40c7-8085-271ad3e47717",
   "metadata": {},
   "source": [
    "Come puoi vedere se i tassi di mercato sono maggiori dei tassi offerti dalla obbligazione essa vale di meno per tassi di mercato di solito si fa riferimento a irp"
   ]
  },
  {
   "cell_type": "markdown",
   "id": "f4a30e43-639f-4b8c-8954-92bc062cf5b5",
   "metadata": {
    "tags": []
   },
   "source": [
    "## Indicatori di rendimento \n"
   ]
  },
  {
   "cell_type": "markdown",
   "id": "62d85d72-da77-43b4-a140-02d1a767f054",
   "metadata": {},
   "source": [
    "#### TASSO DI RENDIMENTO NOMINALE"
   ]
  },
  {
   "cell_type": "markdown",
   "id": "b9128527-0115-434f-a517-e86095f860d2",
   "metadata": {},
   "source": [
    "Indicatore di rendimento di un’obbligazione a tasso fisso pari al rapporto tra una singola cedola periodica e il valore nominale del titolo\n",
    "TRN = (Cedola / Valore Nominale) x 100\n",
    "- TRN è il Tasso di Rendimento Nominale (espresso in percentuale),\n",
    "- Cedola è l'importo della singola cedola periodica,\n",
    "- Valore Nominale è il valore nominale dell'obbligazione o del titolo."
   ]
  },
  {
   "cell_type": "code",
   "execution_count": 28,
   "id": "15b06048-26ba-4c9c-b04c-bafa715feb4f",
   "metadata": {},
   "outputs": [
    {
     "name": "stdout",
     "output_type": "stream",
     "text": [
      "Tasso di Rendimento Nominale (TRN): 4.0 %\n"
     ]
    }
   ],
   "source": [
    "def calcola_TRN(cedola, valore_nominale):\n",
    "\n",
    "    trn = (cedola / valore_nominale) * 100\n",
    "    return trn\n",
    "\n",
    "# Esempio di utilizzo:\n",
    "cedola = 40  # Importo della singola cedola periodica\n",
    "valore_nominale = 1000  # Valore nominale dell'obbligazione o del titolo\n",
    "\n",
    "tasso_rendimento_nominale = calcola_TRN(cedola, valore_nominale)\n",
    "print(\"Tasso di Rendimento Nominale (TRN):\", tasso_rendimento_nominale, \"%\")\n"
   ]
  },
  {
   "cell_type": "markdown",
   "id": "9e74fc45-37d6-437c-8bcb-95dadae4e945",
   "metadata": {},
   "source": [
    "#### TASSO DI RENDIMENTO IMMEDIATO"
   ]
  },
  {
   "cell_type": "markdown",
   "id": "eaa152e2-8653-45f9-a83d-89f606448e6c",
   "metadata": {},
   "source": [
    "Rapporto tra i frutti periodici di un investimento e il capitale investito: TRI = (Cedola / Corso secco) x 100.\n",
    "dove C = Cedole; CS = Corso secco (Prezzo di mercato di titoli con cedola).\n",
    "È un indicatore parziale della redditività di un titolo, poiché considera solo il reddito derivante dallo stacco della cedola, in riferimento all’intervallo di tempo che intercorre tra lo stacco di due cedole successive.\n"
   ]
  },
  {
   "cell_type": "code",
   "execution_count": 29,
   "id": "04674d7b-02d9-4ef2-b2bf-dd0600600b94",
   "metadata": {},
   "outputs": [
    {
     "name": "stdout",
     "output_type": "stream",
     "text": [
      "Il tasso di rendimento immediato è: 5.26%\n"
     ]
    }
   ],
   "source": [
    "def tasso_rendimento_immediato(somma_cedole, prezzo_acquisto):\n",
    "    return somma_cedole / prezzo_acquisto\n",
    "\n",
    "# Esempio di utilizzo\n",
    "somma_cedole_annuali = 50\n",
    "prezzo_acquisto_obbligazione = 950\n",
    "\n",
    "rendimento_immediato = tasso_rendimento_immediato(somma_cedole_annuali, prezzo_acquisto_obbligazione)\n",
    "print(f\"Il tasso di rendimento immediato è: {rendimento_immediato:.2%}\")\n"
   ]
  },
  {
   "cell_type": "markdown",
   "id": "1dc14954-8e62-4563-8a50-0c56ff978511",
   "metadata": {},
   "source": [
    "#### TASSO DI RENDIMENTO EFFETTIVO A SCADENZA"
   ]
  },
  {
   "cell_type": "markdown",
   "id": "1de814f4-030e-4460-9c91-6fe98ca29556",
   "metadata": {},
   "source": [
    "Tasso di Rendimento Effettivo a Scadenza (TRES) è una misura più completa per quantificare la redditività di un investimento in titoli di debito, poiché tiene conto di molteplici caratteristiche dell'obbligazione e considera tutti gli aspetti che influenzano il rendimento effettivo dell'investimento.\n",
    "\n",
    "La formula per calcolare il Tasso di Rendimento Effettivo a Scadenza è data da:\n",
    "\n",
    "$TRES = \\left[ \\sum \\frac{F_i}{(1 + TRES)^{t_i}} / VA \\right]^{1/T} - 1$\n",
    "\n",
    "\n",
    "\n",
    "Dove:\n",
    "- `VA` rappresenta il valore attuale del titolo, ovvero il prezzo di acquisto dell'obbligazione (corso \"tel-quel\").\n",
    "- `T` rappresenta il numero di periodi di detenzione del titolo fino alla scadenza.\n",
    "- `F_i` rappresenta i flussi periodici corrisposti al possessore, come ad esempio le cedole annuali.\n",
    "- `t_i` rappresenta il numero di periodi trascorsi dall'acquisto dell'obbligazione fino al ricevimento di ciascun flusso `F_i`.\n",
    "\n",
    "Il TRES assume che il titolo venga detenuto fino alla scadenza e che le cedole ricevute siano reinvestite al tasso TRES stesso.\n",
    "\n",
    "\n",
    "Il TRES supera i limiti insiti nel tasso di rendimento nominale e nel tasso di rendimento immediato, poiché considera tutte le caratteristiche dell'obbligazione. In sostanza, il tasso immediato considera solo il reddito staccato (cedole), mentre il TRES considera tutte le cedole fino a scadenza, i proventi ottenibili da loro reinvestimento allo stesso tasso e i profitti o le perdite da differenza tra valore di acquisto e di rimborso.\n",
    "\n",
    "Il TRES è una misura più accurata per valutare la redditività di un investimento in obbligazioni perché tiene conto di tutte le componenti che influenzano il rendimento effettivo del titolo.\n"
   ]
  },
  {
   "cell_type": "code",
   "execution_count": 30,
   "id": "dad1c7c3-f5e4-43e1-bd4f-f9f16991489b",
   "metadata": {},
   "outputs": [],
   "source": [
    "import numpy as np"
   ]
  },
  {
   "cell_type": "code",
   "execution_count": 31,
   "id": "46fb9624-4782-4552-83bd-f6ea01bacc3d",
   "metadata": {},
   "outputs": [
    {
     "name": "stdout",
     "output_type": "stream",
     "text": [
      "Yield to Maturity (YTM)=TRES: 9.00%\n"
     ]
    }
   ],
   "source": [
    "import numpy as np\n",
    "from scipy.optimize import newton\n",
    "\n",
    "# Flussi di cassa dell'obbligazione\n",
    "cashflows = np.array([10, 10, 110])\n",
    "\n",
    "# Periodi di tempo (anni)\n",
    "tempo = np.arange(1, 4)\n",
    "\n",
    "# Prezzo corrente dell'obbligazione\n",
    "prezzo_corrente_obbligazione = 102.531\n",
    "\n",
    "def ytm_function(ytm, cashflows, tempo, prezzo_corrente_obbligazione):\n",
    "    \"\"\"\n",
    "    Funzione che calcola il prezzo dell'obbligazione in base a un dato YTM.\n",
    "    \"\"\"\n",
    "    return np.sum(cashflows / (1 + ytm) ** tempo) - prezzo_corrente_obbligazione\n",
    "\n",
    "# Calcolo del YTM utilizzando il metodo di Newton-Raphson\n",
    "ytm = newton(ytm_function, x0=0.05, args=(cashflows, tempo, prezzo_corrente_obbligazione))\n",
    "\n",
    "print(\"Yield to Maturity (YTM)=TRES: {:.2%}\".format(ytm))\n",
    "\n"
   ]
  },
  {
   "cell_type": "markdown",
   "id": "e9858730-13ba-4a63-bae6-0f38fb5ca3ef",
   "metadata": {
    "tags": []
   },
   "source": [
    "## INDICATORI DI LIQUIDITA'\n"
   ]
  },
  {
   "cell_type": "markdown",
   "id": "63bd7d6c-410f-473c-a93c-0a0e4ed6c22b",
   "metadata": {},
   "source": [
    "#### La Duration Nominale (DN)\n",
    "è il periodo che intercorre tra il momento dell’emissione del titolo e la data di \n",
    "rimborso dell’ultima quota di capitale. DN = tcn."
   ]
  },
  {
   "cell_type": "code",
   "execution_count": 32,
   "id": "6a4fc98b-0220-46b9-9262-1ed543b03c69",
   "metadata": {},
   "outputs": [
    {
     "name": "stdout",
     "output_type": "stream",
     "text": [
      "Duration Nominale (DN): 5\n"
     ]
    }
   ],
   "source": [
    "# Duration Nominale (dato fornito o noto)\n",
    "duration_nominale = 5  # Ad esempio, 5 anni\n",
    "\n",
    "print(\"Duration Nominale (DN):\", duration_nominale)\n"
   ]
  },
  {
   "cell_type": "markdown",
   "id": "5651c34d-72de-44ff-ac31-eef7332a0442",
   "metadata": {},
   "source": [
    "#### La Duration Residua (DR) \n",
    "è il periodo tra la sottoscrizione del titolo e la data di rimborso dell’ultima quota \n",
    "di capitale. Si differenzia dalla durata nominale perché il sottraendo non è la data dell’emissione, cioè 0, ma \n",
    "è la data di acquisto del titolo. Nella DN confrontiamo il momento dell’emissione con il momento \n",
    "dell’acquisto del titolo e la sua scadenza finale, mentre nella DR confrontiamo il momento dell’acquisto del \n",
    "titolo e la sua scadenza finale. DR = tcn – tK"
   ]
  },
  {
   "cell_type": "code",
   "execution_count": 33,
   "id": "d8a8cea9-28b9-4488-ac90-b874da8a3b51",
   "metadata": {},
   "outputs": [
    {
     "name": "stdout",
     "output_type": "stream",
     "text": [
      "Duration Residua (DR): 3\n"
     ]
    }
   ],
   "source": [
    "def calcola_duration_residua(tc, tK):\n",
    "    \"\"\"\n",
    "    Calcola la Duration Residua (DR) di un titolo.\n",
    "\n",
    "    Parametri:\n",
    "    tc (float): Termine alla Consegna, il numero di anni tra la data di emissione e la data di rimborso dell'ultima quota di capitale.\n",
    "    tK (float): Numero di anni trascorsi tra la data di acquisto del titolo e la data di rimborso dell'ultima quota di capitale.\n",
    "\n",
    "    Returns:\n",
    "    float: La Duration Residua (DR) del titolo.\n",
    "    \"\"\"\n",
    "    return tc - tK\n",
    "\n",
    "# Esempio di utilizzo:\n",
    "termine_consegna = 5      # Termine alla Consegna (in anni)\n",
    "anni_trascorsi = 2        # Numero di anni trascorsi dall'acquisto alla scadenza\n",
    "duration_residua = calcola_duration_residua(termine_consegna, anni_trascorsi)\n",
    "print(\"Duration Residua (DR):\", duration_residua)\n"
   ]
  },
  {
   "cell_type": "markdown",
   "id": "de2951f8-94c7-4f2f-93e1-13ebb927f9d5",
   "metadata": {},
   "source": [
    "#### La Vita Media Probabile (VMP). \n",
    "È la media aritmetica ponderata dei periodi di scadenza dei rimborsi delle \n",
    "sole quote di capitale, ove i coefficienti di ponderazione sono il peso di ogni C (flusso di cassa) sul valore \n",
    "complessivo di Capitale rimborsato. Corrisponde alla sommatoria delle produttorie di ogni scadenza con il \n",
    "flusso di cassa a titolo di capitale maturato, normalizzata con la sommatoria dei flussi di cassa a titolo di \n",
    "capitale che vengono dati fino a scadenza"
   ]
  },
  {
   "cell_type": "markdown",
   "id": "e7d82bee-4571-48a3-b399-c9f8cf7b1e9e",
   "metadata": {},
   "source": [
    "$$Vita Media Probabile (VMP) = \\frac{\\sum_{i=1}^{n} (t_i \\cdot C_i)}{\\sum_{i=1}^{n} C_i}$$\n"
   ]
  },
  {
   "cell_type": "markdown",
   "id": "12da52fc-6a85-499b-a6d6-ada4038440ee",
   "metadata": {},
   "source": [
    "- Vita Media Probabile (VMP): Rappresenta la Vita Media Probabile dell'obbligazione o del portafoglio di obbligazioni.\n",
    "- n: Indica il numero di flussi di cassa associati alle sole quote di capitale dell'obbligazione.\n",
    "- t_i: Rappresenta il periodo di tempo residuo fino alla scadenza del capitale per il flusso di cassa C_i.\n",
    "- C_i: Rappresenta l'importo del flusso di cassa a titolo di capitale (rimborso del capitale) al periodo i.\n",
    "\n",
    "In altre parole, la VMP è calcolata come la somma dei prodotti tra i periodi residui dei flussi di cassa a titolo di capitale e i relativi importi dei flussi di cassa, il tutto diviso per la somma totale degli importi dei flussi di cassa a titolo di capitale.\n",
    "\n",
    "La Vita Media Probabile fornisce una stima della durata media ponderata dei flussi di cassa a titolo di capitale, e viene spesso utilizzata per valutare la durata effettiva degli investimenti in obbligazioni, poiché tiene conto sia della durata dei flussi di cassa sia delle quantità dei flussi stessi."
   ]
  },
  {
   "cell_type": "code",
   "execution_count": 34,
   "id": "54077ead-ba9c-4ae8-9928-6c2762fd260d",
   "metadata": {},
   "outputs": [
    {
     "name": "stdout",
     "output_type": "stream",
     "text": [
      "Vita Media Probabile (VMP): 4.6\n"
     ]
    }
   ],
   "source": [
    "def calcola_vita_media_probabile(flussi_capitale, periodi_scadenza):\n",
    "    \"\"\"\n",
    "    Calcola la Vita Media Probabile (VMP) di un'obbligazione o di un portafoglio di obbligazioni.\n",
    "\n",
    "    Parametri:\n",
    "    flussi_capitale (list): Lista dei flussi di cassa a titolo di capitale (rimborso del capitale) in ordine di scadenza.\n",
    "    periodi_scadenza (list): Lista dei periodi residui fino alla scadenza del capitale per ciascun flusso di cassa.\n",
    "\n",
    "    Returns:\n",
    "    float: La Vita Media Probabile (VMP) dell'obbligazione o del portafoglio di obbligazioni.\n",
    "    \"\"\"\n",
    "    total_capitale = sum(flussi_capitale)\n",
    "    weighted_sum = sum(t * C for t, C in zip(periodi_scadenza, flussi_capitale))\n",
    "    return weighted_sum / total_capitale\n",
    "\n",
    "# Esempio di utilizzo:\n",
    "flussi_capitale = [50, 50, 50, 50, 1050]  # Lista dei flussi di cassa a titolo di capitale\n",
    "periodi_scadenza = [1, 2, 3, 4, 5]        # Lista dei periodi residui fino alla scadenza del capitale\n",
    "vita_media_probabile = calcola_vita_media_probabile(flussi_capitale, periodi_scadenza)\n",
    "print(\"Vita Media Probabile (VMP):\", vita_media_probabile)\n"
   ]
  },
  {
   "cell_type": "markdown",
   "id": "9378543f-1490-40d2-93bf-a23509ed8bc3",
   "metadata": {},
   "source": [
    "MP ≈ 4.6, indica la durata media ponderata dei flussi di cassa a titolo di capitale dell'obbligazione o del portafoglio di obbligazioni. In altre parole, è una stima del tempo medio in anni che ci si aspetta di mantenere l'investimento prima di ricevere l'ultimo rimborso di capitale.\n",
    "\n",
    "Il valore VMP di circa 4.6 suggerisce che ci si aspetta di ricevere l'ultimo rimborso di capitale dell'obbligazione o del portafoglio di obbligazioni in circa 4.6 anni. Questo dato è ottenuto considerando i flussi di cassa a titolo di capitale e i relativi periodi residui fino alla scadenza."
   ]
  },
  {
   "cell_type": "markdown",
   "id": "e2c04085-df0e-4027-835a-863ef59f95bc",
   "metadata": {},
   "source": [
    "### La Vita Media Matematica (VMM) \n",
    "è data dalla media ponderata dei periodi di scadenza dei rimborsi delle \n",
    "quote di capitale, ove i coefficienti di ponderazione sono il peso dei valori attuali di ogni C sul valore \n",
    "complessivo del Capitale rimborsato. La differenza rispetto alla VMP sta nel modo con cui vengono misurati \n",
    "i flussi di cassa. Nel VMP i flussi di cassa a titolo di capitale vengono sommati uno dopo l’altro, mentre nella \n",
    "VMM vengono sommati considerando il valore finanziario del tempo. Quindi, opera un trasferimento alla \n",
    "data di oggi, un’attualizzazione di tutte le serie di flussi di cassa a titolo di capitale che vengono generati dal \n",
    "titolo, per cui viene considerato per ogni flusso di cassa il suo fattore di sconto, attualizzato ad oggi per il \n",
    "suo orizzonte temporale."
   ]
  },
  {
   "cell_type": "markdown",
   "id": "4fe9c573-5819-4d37-af03-a35b0ceba9a8",
   "metadata": {},
   "source": [
    "$$Vita Media Matematica (VMM) = \\frac{\\sum_{i=1}^{n} t_i \\cdot \\frac{C_i}{(1 + r)^{t_i}}}{\\sum_{i=1}^{n} \\frac{C_i}{(1 + r)^{t_i}}}\n",
    "$$\n"
   ]
  },
  {
   "cell_type": "markdown",
   "id": "a3a867e1-c876-43a0-8041-cd9c2f16fbf1",
   "metadata": {},
   "source": [
    "- Vita Media Matematica (VMM): Rappresenta la Vita Media Matematica dell'obbligazione o del portafoglio di obbligazioni.\n",
    "- n: Indica il numero di flussi di cassa a titolo di capitale dell'obbligazione.\n",
    "- t_i: Rappresenta il periodo di tempo residuo fino alla scadenza del capitale per il flusso di cassa C_i.\n",
    "- C_i: Rappresenta l'importo del flusso di cassa a titolo di capitale (rimborso del capitale) al periodo i.\n",
    "- r: Rappresenta il tasso di sconto, che è il tasso di rendimento richiesto o opportunità di investimento."
   ]
  },
  {
   "cell_type": "code",
   "execution_count": 35,
   "id": "cfce729d-0d55-4ad7-9703-7e8165e06b49",
   "metadata": {},
   "outputs": [
    {
     "name": "stdout",
     "output_type": "stream",
     "text": [
      "Vita Media Matematica (VMM): 4.545950504162361\n"
     ]
    }
   ],
   "source": [
    "def calcola_vita_media_matematica(flussi_capitale, periodi_scadenza, tasso_di_sconto):\n",
    "    \"\"\"\n",
    "    Calcola la Vita Media Matematica (VMM) di un'obbligazione o di un portafoglio di obbligazioni.\n",
    "\n",
    "    Parametri:\n",
    "    flussi_capitale (list): Lista dei flussi di cassa a titolo di capitale (rimborso del capitale) in ordine di scadenza.\n",
    "    periodi_scadenza (list): Lista dei periodi residui fino alla scadenza del capitale per ciascun flusso di cassa.\n",
    "    tasso_di_sconto (float): Il tasso di sconto utilizzato per attualizzare i flussi di cassa futuri.\n",
    "\n",
    "    Returns:\n",
    "    float: La Vita Media Matematica (VMM) dell'obbligazione o del portafoglio di obbligazioni.\n",
    "    \"\"\"\n",
    "    attualizzati = [C / (1 + tasso_di_sconto) ** t for C, t in zip(flussi_capitale, periodi_scadenza)]\n",
    "    total_attualizzati = sum(attualizzati)\n",
    "    weighted_sum = sum(t * a for t, a in zip(periodi_scadenza, attualizzati))\n",
    "    return weighted_sum / total_attualizzati\n",
    "\n",
    "# Esempio di utilizzo:\n",
    "flussi_capitale = [50, 50, 50, 50, 1050]  # Lista dei flussi di cassa a titolo di capitale (incluso il rimborso nominale)\n",
    "periodi_scadenza = [1, 2, 3, 4, 5]       # Lista dei periodi residui fino alla scadenza del capitale\n",
    "tasso_di_sconto = 0.05                   # Tasso di sconto del 5% (0.05 in valore decimale)\n",
    "vita_media_matematica = calcola_vita_media_matematica(flussi_capitale, periodi_scadenza, tasso_di_sconto)\n",
    "print(\"Vita Media Matematica (VMM):\", vita_media_matematica)\n"
   ]
  },
  {
   "cell_type": "markdown",
   "id": "500c2fff-fa85-4b6c-a086-44deaaa73f78",
   "metadata": {},
   "source": [
    "Il valore 4.54 ottenuto come risultato dalla Vita Media Matematica (VMM) indica la durata media ponderata dei flussi di cassa a titolo di capitale dell'obbligazione o del portafoglio di obbligazioni, considerando l'attualizzazione dei flussi futuri utilizzando il tasso di sconto specificato (nel nostro esempio, il tasso di sconto è 5%).\n",
    "\n",
    "Più specificamente, il valore 4.54 rappresenta il tempo medio in anni che ci si aspetta di mantenere l'investimento prima di ricevere l'ultimo rimborso di capitale, considerando il valore finanziario del tempo e l'effetto dell'attualizzazione dei flussi di cassa futuri.\n",
    "\n",
    "Questo valore può essere utile per gli investitori per valutare la durata media ponderata dell'investimento e per comprendere quanto tempo ci si aspetta di trattenere l'obbligazione o il portafoglio di obbligazioni prima di ricevere l'ultimo rimborso di capitale."
   ]
  },
  {
   "cell_type": "markdown",
   "id": "c7aabc09-87c6-48f1-8d08-c94a89a6c0df",
   "metadata": {},
   "source": [
    "#### La Durata Media Ponderata (DMP) \n",
    "è data dalla media artimetica ponderata dei periodi di scadenza dei \n",
    "flussi finanziari futuri (interessi + capitale), ove i coefficienti di ponderazione sono il peso di ogni flusso sul \n",
    "valore complessivo dei flussi. \n",
    "$$DMP = (c1 * f1 + c2 * f2 + ... + cn * fn) / (f1 + f2 + ... + fn)$$\n",
    "Dove:\n",
    "\n",
    "- DMP è la Durata Media Ponderata.\n",
    "- c1, c2, ..., cn rappresentano i periodi di scadenza dei flussi finanziari 1, 2, ..., n.\n",
    "- f1, f2, ..., fn rappresentano i valori dei flussi finanziari 1, 2, ..., n.\n"
   ]
  },
  {
   "cell_type": "code",
   "execution_count": 36,
   "id": "8bc7efed-d6b0-49a3-842c-01a010f34c3c",
   "metadata": {},
   "outputs": [
    {
     "name": "stdout",
     "output_type": "stream",
     "text": [
      "La Durata Media Ponderata (DMP) è: 4.6\n"
     ]
    }
   ],
   "source": [
    "def calcola_dmp(periodi_scadenza, valori_flussi):\n",
    "    if len(periodi_scadenza) != len(valori_flussi):\n",
    "        raise ValueError(\"Le liste devono avere la stessa lunghezza.\")\n",
    "\n",
    "    numeratore = sum([periodo * valore for periodo, valore in zip(periodi_scadenza, valori_flussi)])\n",
    "    denominatore = sum(valori_flussi)\n",
    "\n",
    "    dmp = numeratore / denominatore\n",
    "    return dmp\n",
    "\n",
    "# Dati forniti:\n",
    "flussi_capitale = [50, 50, 50, 50, 1050]  # Lista dei flussi di cassa a titolo di capitale (incluso il rimborso nominale)\n",
    "periodi_scadenza = [1, 2, 3, 4, 5]        # Lista dei periodi di scadenza\n",
    "\n",
    "# Calcolo della DMP:\n",
    "dmp = calcola_dmp(periodi_scadenza, flussi_capitale)\n",
    "print(\"La Durata Media Ponderata (DMP) è:\", dmp)\n"
   ]
  },
  {
   "cell_type": "markdown",
   "id": "218f77fc-7d00-4bfd-9112-6f407e71db74",
   "metadata": {},
   "source": [
    "In generale, la DMP è un indicatore di sensibilità di un investimento o di un titolo di debito ai cambiamenti dei tassi di interesse. Più alta è la DMP, maggiore sarà la sensibilità del titolo agli eventuali cambiamenti dei tassi di interesse.\n",
    "\n",
    "Una DMP di 4.6,  suggerisce che i flussi finanziari futuri (interessi e capitale) sono distribuiti in media su un periodo di circa 4.6 unità di tempo ponderate dai valori dei flussi. "
   ]
  },
  {
   "cell_type": "markdown",
   "id": "7956319f-3d50-4b0f-bf02-c6f5cf817f20",
   "metadata": {},
   "source": [
    "#### La durata media finanziaria (o duration)\n",
    "di un'obbligazione è definita come scadenza media dei flussi di cassa attesi, ponderata per il contributo del valore attuale di ciascun flusso alla formazione del prezzo.\n",
    "A un'elevata duration corrisponde un'elevata sensibilità del prezzo del titolo al variare del tasso di rendimento e viceversa. Per tale motivo la duration viene utilizzata quale indicatore di rischio dei titoli obbligazionari. Essa permette di misurare (con una certa approssimazione) la variazione del prezzo di un titolo obbligazionario a seguito della variazione del livello dei tassi di interesse.\n",
    "La duration è pari alla durata anagrafica per i titoli privi di cedola (zero coupon bond), mentre è sempre inferiore alla durata nel caso di titoli muniti di cedola. A parità di scadenza e di altre condizioni, la duration è più elevata per i titoli con cedola relativamente bassa e tende a diminuire all'aumentare del tasso di rendimento."
   ]
  },
  {
   "cell_type": "markdown",
   "id": "9c1a9673-6e1c-4cb9-83a3-0d64f43c822c",
   "metadata": {},
   "source": [
    "$$\n",
    "MacD = \\sum_{t=1}^{n} \\left( \\frac{1}{(1+y)^{t}} \\times t \\times CF_t \\right) / PV\n",
    "$$\n",
    "Dove:\n",
    "\n",
    "- MacD rappresenta la Durata di Macaulay dell'obbligazione.\n",
    "- y è il rendimento alla scadenza (yield to maturity) dell'obbligazione.\n",
    "- tf è il tempo in anni fino a quando viene ricevuto il flusso di cassa (pagamento di cedola o valore di rimborso).\n",
    "- CFf rappresenta l'importo del flusso di cassa per il rispettivo periodo.\n",
    "- PV è il valore attuale di tutti i flussi di cassa"
   ]
  },
  {
   "cell_type": "code",
   "execution_count": 37,
   "id": "72e24a30-d0bf-45ef-aa08-012fcc63c8f7",
   "metadata": {},
   "outputs": [
    {
     "name": "stdout",
     "output_type": "stream",
     "text": [
      "La Durata di Macaulay dell'obbligazione è: 4.55 anni\n"
     ]
    }
   ],
   "source": [
    "# Dati forniti\n",
    "flussi_capitale = [50, 50, 50, 50, 1050]  # Lista dei flussi di cassa a titolo di capitale (incluso il rimborso nominale)\n",
    "periodi_scadenza = [1, 2, 3, 4, 5]       # Lista dei periodi di scadenza corrispondenti ai flussi di cassa\n",
    "ytm = 0.05                              # Rendimento alla scadenza (Yield to Maturity) del 5%\n",
    "\n",
    "# Calcolo del valore attuale dei flussi di cassa\n",
    "def valore_attuale(flusso, periodo, ytm):\n",
    "    return flusso / (1 + ytm)**periodo\n",
    "\n",
    "# Calcolo della Durata di Macaulay\n",
    "def durata_macaulay(flussi, periodi, ytm):\n",
    "    presente_valore = [valore_attuale(flusso, periodo, ytm) for flusso, periodo in zip(flussi, periodi)]\n",
    "    pv_totale = sum(presente_valore)\n",
    "    \n",
    "    durata = sum([(valore * periodo) for valore, periodo in zip(presente_valore, periodi)]) / pv_totale\n",
    "    return durata\n",
    "\n",
    "# Calcolo della Durata di Macaulay utilizzando i dati forniti\n",
    "durata = durata_macaulay(flussi_capitale, periodi_scadenza, ytm)\n",
    "print(f\"La Durata di Macaulay dell'obbligazione è: {durata:.2f} anni\")\n"
   ]
  },
  {
   "cell_type": "markdown",
   "id": "444102db-dbb6-4123-ad69-655dbbab0aa9",
   "metadata": {},
   "source": [
    "La Durata di Macaulay indica quanto tempo mediamente ci vorrà per recuperare il costo dell'obbligazione attraverso i flussi di cassa futuri, tenendo conto del tasso di interesse corrente. In generale, una Durata di Macaulay maggiore indica una maggiore sensibilità del prezzo dell'obbligazione ai cambiamenti dei tassi di interesse.\n",
    "\n",
    "Quindi, nel caso specifico, una Durata di Macaulay di 4.55 anni indica che ci vorranno circa 4.55 anni per recuperare l'investimento in quella specifica obbligazione considerando i flussi di cassa attesi e il rendimento alla scadenza del 5%."
   ]
  },
  {
   "cell_type": "markdown",
   "id": "e1ddc45c-5bd7-42e5-9ff3-1d0f77cb2f65",
   "metadata": {},
   "source": [
    "#### Duration modificata"
   ]
  },
  {
   "cell_type": "markdown",
   "id": "38f1132b-7b34-4d9e-b561-736f4bb77359",
   "metadata": {},
   "source": [
    "La Duration Modificata è una misura finanziaria utilizzata per stimare la variazione percentuale del prezzo di un'obbligazione rispetto alle variazioni dei tassi di rendimento effettivo a scadenza (TRES). Essa rappresenta un'approssimazione lineare della variazione del prezzo in risposta ai cambiamenti dei tassi di interesse.\n",
    "\n",
    "La formula per calcolare la Duration Modificata è la seguente:\n",
    "\n",
    "\n",
    "$$Duration Modificata = MacD / (1 + TRES)$$\n",
    "\n",
    "Dove:\n",
    "\n",
    "MacD rappresenta la Durata di Macaulay dell'obbligazione.\n",
    "TRES indica il tasso di rendimento effettivo a scadenza, calcolato come rapporto tra il prezzo attuale dell'obbligazione e il valore attuale di tutti i flussi di cassa.\n",
    "La Duration Modificata è espressa in anni ed è un'indicazione della percentuale di variazione del prezzo dell'obbligazione per una variazione di un punto percentuale del tasso di rendimento effettivo a scadenza."
   ]
  },
  {
   "cell_type": "code",
   "execution_count": 38,
   "id": "26f44c56-a20c-488e-8df9-23badbbd2b47",
   "metadata": {},
   "outputs": [
    {
     "name": "stdout",
     "output_type": "stream",
     "text": [
      "Durata di Macaulay dell'obbligazione: 4.55 anni\n",
      "Duration Modificata dell'obbligazione: 4.33 anni\n"
     ]
    }
   ],
   "source": [
    "# Dati forniti\n",
    "flussi_capitale = [50, 50, 50, 50, 1050]  # Lista dei flussi di cassa a titolo di capitale (incluso il rimborso nominale)\n",
    "periodi_scadenza = [1, 2, 3, 4, 5]       # Lista dei periodi di scadenza corrispondenti ai flussi di cassa\n",
    "ytm = 0.05                               # Rendimento alla scadenza (Yield to Maturity) del 5%\n",
    "\n",
    "# Calcolo del valore attuale dei flussi di cassa\n",
    "def valore_attuale(flusso, periodo, ytm):\n",
    "    return flusso / (1 + ytm)**periodo\n",
    "\n",
    "# Calcolo della Durata di Macaulay\n",
    "def durata_macaulay(flussi, periodi, ytm):\n",
    "    presente_valore = [valore_attuale(flusso, periodo, ytm) for flusso, periodo in zip(flussi, periodi)]\n",
    "    pv_totale = sum(presente_valore)\n",
    "    \n",
    "    durata = sum([(valore * periodo) for valore, periodo in zip(presente_valore, periodi)]) / pv_totale\n",
    "    return durata\n",
    "\n",
    "# Calcolo della Duration Modificata\n",
    "def duration_modificata(macaulay_duration, ytm):\n",
    "    return macaulay_duration / (1 + ytm)\n",
    "\n",
    "# Calcolo della Durata di Macaulay utilizzando i dati forniti\n",
    "durata_macaulay = durata_macaulay(flussi_capitale, periodi_scadenza, ytm)\n",
    "\n",
    "# Calcolo della Duration Modificata utilizzando la Durata di Macaulay\n",
    "duration_modificata = duration_modificata(durata_macaulay, ytm)\n",
    "\n",
    "print(f\"Durata di Macaulay dell'obbligazione: {durata_macaulay:.2f} anni\")\n",
    "print(f\"Duration Modificata dell'obbligazione: {duration_modificata:.2f} anni\")\n"
   ]
  },
  {
   "cell_type": "markdown",
   "id": "b14d5dd7-cf0e-4451-956d-d508b6a8639f",
   "metadata": {},
   "source": [
    "Se la Duration Modificata è 4.33 anni, significa che ci aspettiamo che il prezzo dell'obbligazione varierà di circa il 4.33% per ogni variazione di un punto percentuale (1%) nei tassi di rendimento effettivo a scadenza (YTM).\n",
    "\n",
    "Quindi, se i tassi di interesse aumentano di 1 punto percentuale (ad esempio, dal 5% al 6%), possiamo calcolare l'effetto sulla variazione percentuale del prezzo dell'obbligazione utilizzando la Duration Modificata:\n",
    "\n",
    "Variazione percentuale del prezzo dell'obbligazione = - Duration Modificata × Variazione percentuale dei tassi di interesse\n",
    "\n",
    "Variazione percentuale del prezzo dell'obbligazione = - 4.33% × 1% = -0.0433\n",
    "\n",
    "Quindi, con un aumento dei tassi di interesse del 1%, ci aspettiamo che il prezzo dell'obbligazione diminuisca di circa il 0.0433%, ovvero dello 0.0433 punti percentuali."
   ]
  },
  {
   "cell_type": "code",
   "execution_count": 39,
   "id": "794e8b4c-72c7-45fc-a832-8afdea735120",
   "metadata": {},
   "outputs": [
    {
     "name": "stdout",
     "output_type": "stream",
     "text": [
      "Effetto di un aumento del 1% dei tassi di interesse sul prezzo dell'obbligazione: -0.04%\n",
      "Effetto di una diminuzione del 1% dei tassi di interesse sul prezzo dell'obbligazione: 0.04%\n"
     ]
    }
   ],
   "source": [
    "duration_modificata = 4.33               # Duration Modificata\n",
    "\n",
    "# Calcolo dell'effetto di un aumento del 1% dei tassi di interesse\n",
    "variazione_tassi_aumento = 0.01\n",
    "variazione_prezzo_aumento = -duration_modificata * variazione_tassi_aumento\n",
    "\n",
    "# Calcolo dell'effetto di una diminuzione del 1% dei tassi di interesse\n",
    "variazione_tassi_diminuzione = -0.01\n",
    "variazione_prezzo_diminuzione = -duration_modificata * variazione_tassi_diminuzione\n",
    "\n",
    "print(f\"Effetto di un aumento del 1% dei tassi di interesse sul prezzo dell'obbligazione: {variazione_prezzo_aumento:.2f}%\")\n",
    "print(f\"Effetto di una diminuzione del 1% dei tassi di interesse sul prezzo dell'obbligazione: {variazione_prezzo_diminuzione:.2f}%\")"
   ]
  },
  {
   "cell_type": "markdown",
   "id": "c843cd46-7c06-4fcb-8e1d-550f723f37b9",
   "metadata": {},
   "source": [
    "#### convessità\n",
    "$$Convexity=Cx=\\frac{1}{B_0}\\frac{1}{((1+r)^2}\\sum_{t=1}^{T}(t+t^2)\\frac{C_t}{(1+r)^t}$$\n",
    "\n"
   ]
  },
  {
   "cell_type": "code",
   "execution_count": 40,
   "id": "55b18206-c505-4fc6-8690-229dc7d5e1b0",
   "metadata": {},
   "outputs": [
    {
     "name": "stdout",
     "output_type": "stream",
     "text": [
      "Convessità dell'obbligazione con 5 periodi: 26.39\n"
     ]
    }
   ],
   "source": [
    "# Dati forniti\n",
    "flussi_capitale = [50, 50, 50, 50, 1050]\n",
    "periodi_scadenza = [1, 2, 3, 4, 5]\n",
    "ytm = 0.05\n",
    "\n",
    "# Calcolo del prezzo attuale dell'obbligazione (B0)\n",
    "present_value = [flusso / (1 + ytm)**periodo for flusso, periodo in zip(flussi_capitale, periodi_scadenza)]\n",
    "B0 = sum(present_value)\n",
    "\n",
    "# Calcolo della Convessità\n",
    "convessita = sum([(t + t**2) * flusso / (B0 * (1 + ytm)**t) for t, flusso in zip(periodi_scadenza, flussi_capitale)])\n",
    "\n",
    "print(f\"Convessità dell'obbligazione con 5 periodi: {convessita:.2f}\")\n"
   ]
  },
  {
   "cell_type": "markdown",
   "id": "5cbde59f-f2b0-41fa-bf2e-7444e18e7135",
   "metadata": {},
   "source": [
    "Quando il valore della Convessità è troppo elevato, può indicare che l'obbligazione ha una maggiore sensibilità ai cambiamenti dei tassi di interesse, il che potrebbe comportare un maggiore rischio di prezzo in determinate situazioni di mercato. Un'elevata Convessità può portare a due principali considerazioni:\n",
    "\n",
    "Maggiore incertezza: Un'obbligazione con alta Convessità è più sensibile ai cambiamenti dei tassi di interesse, il che potrebbe aumentare l'incertezza riguardo alla direzione futura del prezzo dell'obbligazione. Questo può essere particolarmente problematico in periodi di volatilità dei tassi di interesse o incertezza economica.\n",
    "\n",
    "Maggiore esposizione al rischio: Un'alta Convessità può significare che l'obbligazione è più suscettibile a fluttuazioni di prezzo in risposta ai cambiamenti dei tassi di interesse. Questo potrebbe comportare un maggiore rischio di prezzo, soprattutto se i tassi di interesse subiscono movimenti significativi."
   ]
  },
  {
   "cell_type": "code",
   "execution_count": null,
   "id": "280ce1b6-0876-46d5-b543-59190063e18f",
   "metadata": {},
   "outputs": [],
   "source": []
  }
 ],
 "metadata": {
  "kernelspec": {
   "display_name": "Python 3 (ipykernel)",
   "language": "python",
   "name": "python3"
  },
  "language_info": {
   "codemirror_mode": {
    "name": "ipython",
    "version": 3
   },
   "file_extension": ".py",
   "mimetype": "text/x-python",
   "name": "python",
   "nbconvert_exporter": "python",
   "pygments_lexer": "ipython3",
   "version": "3.9.13"
  }
 },
 "nbformat": 4,
 "nbformat_minor": 5
}
